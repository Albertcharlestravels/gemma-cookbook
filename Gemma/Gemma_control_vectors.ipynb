{
 "cells": [
  {
   "cell_type": "markdown",
   "source": [
    "##### Copyright 2024 Google LLC."
   ],
   "metadata": {
    "id": "rLW8X5GNpE-4"
   },
   "id": "rLW8X5GNpE-4"
  },
  {
   "cell_type": "code",
   "source": [
    "# @title Licensed under the Apache License, Version 2.0 (the \"License\");\n",
    "# you may not use this file except in compliance with the License.\n",
    "# You may obtain a copy of the License at\n",
    "#\n",
    "# https://www.apache.org/licenses/LICENSE-2.0\n",
    "#\n",
    "# Unless required by applicable law or agreed to in writing, software\n",
    "# distributed under the License is distributed on an \"AS IS\" BASIS,\n",
    "# WITHOUT WARRANTIES OR CONDITIONS OF ANY KIND, either express or implied.\n",
    "# See the License for the specific language governing permissions and\n",
    "# limitations under the License."
   ],
   "metadata": {
    "id": "qYqKcwfdpc1S"
   },
   "id": "qYqKcwfdpc1S",
   "execution_count": null,
   "outputs": []
  },
  {
   "cell_type": "markdown",
   "source": [
    "# Gemma control vectors\n",
    "\n",
    "This is one of the accompanying notebooks for the [Large Language Models with Keras](https://www.youtube.com/watch?v=TV7qCk1dBWA) technical session at Google I/O 2024.\n",
    "\n",
    "<table align=\"left\">\n",
    "  <td>\n",
    "    <a target=\"_blank\" href=\"https://colab.research.google.com/github/google-gemini/gemma-cookbook/blob/main/Gemma/Gemma_control_vectors.ipynb\"><img src=\"https://www.tensorflow.org/images/colab_logo_32px.png\" />Run in Google Colab</a>\n",
    "  </td>\n",
    "</table>"
   ],
   "metadata": {
    "id": "juhV0d6jNWWu"
   },
   "id": "juhV0d6jNWWu"
  },
  {
   "cell_type": "markdown",
   "source": [
    "# Setup\n",
    "\n",
    "## Select the Colab runtime\n",
    "To complete this tutorial, you'll need to have a Colab runtime with sufficient resources to run the Gemma model. In this case, you can use a T4 GPU:\n",
    "\n",
    "1. In the upper-right of the Colab window, select **▾ (Additional connection options)**.\n",
    "2. Select **Change runtime type**.\n",
    "3. Under **Hardware accelerator**, select **T4 GPU**.\n"
   ],
   "metadata": {
    "id": "Pw90PnlkReQr"
   },
   "id": "Pw90PnlkReQr"
  },
  {
   "cell_type": "markdown",
   "source": [
    "# Installation"
   ],
   "metadata": {
    "id": "hOYTKSRspgnD"
   },
   "id": "hOYTKSRspgnD"
  },
  {
   "cell_type": "code",
   "source": [
    "#!pip install -U keras\n",
    "!pip install -U keras_nlp"
   ],
   "metadata": {
    "id": "oOXfwZZ15yVG",
    "colab": {
     "base_uri": "https://localhost:8080/"
    },
    "outputId": "3e03fea8-e15d-4864-9352-010fe57df884"
   },
   "id": "oOXfwZZ15yVG",
   "execution_count": null,
   "outputs": [
    {
     "output_type": "stream",
     "name": "stdout",
     "text": [
      "Collecting keras_nlp\n",
      "  Downloading keras_nlp-0.14.0-py3-none-any.whl (571 kB)\n",
      "\u001b[2K     \u001b[90m━━━━━━━━━━━━━━━━━━━━━━━━━━━━━━━━━━━━━━━━\u001b[0m \u001b[32m571.8/571.8 kB\u001b[0m \u001b[31m5.5 MB/s\u001b[0m eta \u001b[36m0:00:00\u001b[0m\n",
      "\u001b[?25hRequirement already satisfied: absl-py in /usr/local/lib/python3.10/dist-packages (from keras_nlp) (1.4.0)\n",
      "Requirement already satisfied: numpy in /usr/local/lib/python3.10/dist-packages (from keras_nlp) (1.25.2)\n",
      "Requirement already satisfied: packaging in /usr/local/lib/python3.10/dist-packages (from keras_nlp) (24.1)\n",
      "Requirement already satisfied: regex in /usr/local/lib/python3.10/dist-packages (from keras_nlp) (2024.5.15)\n",
      "Requirement already satisfied: rich in /usr/local/lib/python3.10/dist-packages (from keras_nlp) (13.7.1)\n",
      "Requirement already satisfied: kagglehub in /usr/local/lib/python3.10/dist-packages (from keras_nlp) (0.2.5)\n",
      "Collecting tensorflow-text (from keras_nlp)\n",
      "  Downloading tensorflow_text-2.16.1-cp310-cp310-manylinux_2_17_x86_64.manylinux2014_x86_64.whl (5.2 MB)\n",
      "\u001b[2K     \u001b[90m━━━━━━━━━━━━━━━━━━━━━━━━━━━━━━━━━━━━━━━━\u001b[0m \u001b[32m5.2/5.2 MB\u001b[0m \u001b[31m19.2 MB/s\u001b[0m eta \u001b[36m0:00:00\u001b[0m\n",
      "\u001b[?25hRequirement already satisfied: requests in /usr/local/lib/python3.10/dist-packages (from kagglehub->keras_nlp) (2.31.0)\n",
      "Requirement already satisfied: tqdm in /usr/local/lib/python3.10/dist-packages (from kagglehub->keras_nlp) (4.66.4)\n",
      "Requirement already satisfied: markdown-it-py>=2.2.0 in /usr/local/lib/python3.10/dist-packages (from rich->keras_nlp) (3.0.0)\n",
      "Requirement already satisfied: pygments<3.0.0,>=2.13.0 in /usr/local/lib/python3.10/dist-packages (from rich->keras_nlp) (2.16.1)\n",
      "Collecting tensorflow<2.17,>=2.16.1 (from tensorflow-text->keras_nlp)\n",
      "  Downloading tensorflow-2.16.2-cp310-cp310-manylinux_2_17_x86_64.manylinux2014_x86_64.whl (590.6 MB)\n",
      "\u001b[2K     \u001b[90m━━━━━━━━━━━━━━━━━━━━━━━━━━━━━━━━━━━━━━━━\u001b[0m \u001b[32m590.6/590.6 MB\u001b[0m \u001b[31m1.9 MB/s\u001b[0m eta \u001b[36m0:00:00\u001b[0m\n",
      "\u001b[?25hRequirement already satisfied: mdurl~=0.1 in /usr/local/lib/python3.10/dist-packages (from markdown-it-py>=2.2.0->rich->keras_nlp) (0.1.2)\n",
      "Requirement already satisfied: astunparse>=1.6.0 in /usr/local/lib/python3.10/dist-packages (from tensorflow<2.17,>=2.16.1->tensorflow-text->keras_nlp) (1.6.3)\n",
      "Requirement already satisfied: flatbuffers>=23.5.26 in /usr/local/lib/python3.10/dist-packages (from tensorflow<2.17,>=2.16.1->tensorflow-text->keras_nlp) (24.3.25)\n",
      "Requirement already satisfied: gast!=0.5.0,!=0.5.1,!=0.5.2,>=0.2.1 in /usr/local/lib/python3.10/dist-packages (from tensorflow<2.17,>=2.16.1->tensorflow-text->keras_nlp) (0.5.5)\n",
      "Requirement already satisfied: google-pasta>=0.1.1 in /usr/local/lib/python3.10/dist-packages (from tensorflow<2.17,>=2.16.1->tensorflow-text->keras_nlp) (0.2.0)\n",
      "Collecting h5py>=3.10.0 (from tensorflow<2.17,>=2.16.1->tensorflow-text->keras_nlp)\n",
      "  Downloading h5py-3.11.0-cp310-cp310-manylinux_2_17_x86_64.manylinux2014_x86_64.whl (5.3 MB)\n",
      "\u001b[2K     \u001b[90m━━━━━━━━━━━━━━━━━━━━━━━━━━━━━━━━━━━━━━━━\u001b[0m \u001b[32m5.3/5.3 MB\u001b[0m \u001b[31m9.1 MB/s\u001b[0m eta \u001b[36m0:00:00\u001b[0m\n",
      "\u001b[?25hRequirement already satisfied: libclang>=13.0.0 in /usr/local/lib/python3.10/dist-packages (from tensorflow<2.17,>=2.16.1->tensorflow-text->keras_nlp) (18.1.1)\n",
      "Collecting ml-dtypes~=0.3.1 (from tensorflow<2.17,>=2.16.1->tensorflow-text->keras_nlp)\n",
      "  Downloading ml_dtypes-0.3.2-cp310-cp310-manylinux_2_17_x86_64.manylinux2014_x86_64.whl (2.2 MB)\n",
      "\u001b[2K     \u001b[90m━━━━━━━━━━━━━━━━━━━━━━━━━━━━━━━━━━━━━━━━\u001b[0m \u001b[32m2.2/2.2 MB\u001b[0m \u001b[31m54.1 MB/s\u001b[0m eta \u001b[36m0:00:00\u001b[0m\n",
      "\u001b[?25hRequirement already satisfied: opt-einsum>=2.3.2 in /usr/local/lib/python3.10/dist-packages (from tensorflow<2.17,>=2.16.1->tensorflow-text->keras_nlp) (3.3.0)\n",
      "Requirement already satisfied: protobuf!=4.21.0,!=4.21.1,!=4.21.2,!=4.21.3,!=4.21.4,!=4.21.5,<5.0.0dev,>=3.20.3 in /usr/local/lib/python3.10/dist-packages (from tensorflow<2.17,>=2.16.1->tensorflow-text->keras_nlp) (3.20.3)\n",
      "Requirement already satisfied: setuptools in /usr/local/lib/python3.10/dist-packages (from tensorflow<2.17,>=2.16.1->tensorflow-text->keras_nlp) (67.7.2)\n",
      "Requirement already satisfied: six>=1.12.0 in /usr/local/lib/python3.10/dist-packages (from tensorflow<2.17,>=2.16.1->tensorflow-text->keras_nlp) (1.16.0)\n",
      "Requirement already satisfied: termcolor>=1.1.0 in /usr/local/lib/python3.10/dist-packages (from tensorflow<2.17,>=2.16.1->tensorflow-text->keras_nlp) (2.4.0)\n",
      "Requirement already satisfied: typing-extensions>=3.6.6 in /usr/local/lib/python3.10/dist-packages (from tensorflow<2.17,>=2.16.1->tensorflow-text->keras_nlp) (4.12.2)\n",
      "Requirement already satisfied: wrapt>=1.11.0 in /usr/local/lib/python3.10/dist-packages (from tensorflow<2.17,>=2.16.1->tensorflow-text->keras_nlp) (1.14.1)\n",
      "Requirement already satisfied: grpcio<2.0,>=1.24.3 in /usr/local/lib/python3.10/dist-packages (from tensorflow<2.17,>=2.16.1->tensorflow-text->keras_nlp) (1.64.1)\n",
      "Collecting tensorboard<2.17,>=2.16 (from tensorflow<2.17,>=2.16.1->tensorflow-text->keras_nlp)\n",
      "  Downloading tensorboard-2.16.2-py3-none-any.whl (5.5 MB)\n",
      "\u001b[2K     \u001b[90m━━━━━━━━━━━━━━━━━━━━━━━━━━━━━━━━━━━━━━━━\u001b[0m \u001b[32m5.5/5.5 MB\u001b[0m \u001b[31m74.5 MB/s\u001b[0m eta \u001b[36m0:00:00\u001b[0m\n",
      "\u001b[?25hCollecting keras>=3.0.0 (from tensorflow<2.17,>=2.16.1->tensorflow-text->keras_nlp)\n",
      "  Downloading keras-3.4.1-py3-none-any.whl (1.1 MB)\n",
      "\u001b[2K     \u001b[90m━━━━━━━━━━━━━━━━━━━━━━━━━━━━━━━━━━━━━━━━\u001b[0m \u001b[32m1.1/1.1 MB\u001b[0m \u001b[31m51.7 MB/s\u001b[0m eta \u001b[36m0:00:00\u001b[0m\n",
      "\u001b[?25hRequirement already satisfied: tensorflow-io-gcs-filesystem>=0.23.1 in /usr/local/lib/python3.10/dist-packages (from tensorflow<2.17,>=2.16.1->tensorflow-text->keras_nlp) (0.37.0)\n",
      "Requirement already satisfied: charset-normalizer<4,>=2 in /usr/local/lib/python3.10/dist-packages (from requests->kagglehub->keras_nlp) (3.3.2)\n",
      "Requirement already satisfied: idna<4,>=2.5 in /usr/local/lib/python3.10/dist-packages (from requests->kagglehub->keras_nlp) (3.7)\n",
      "Requirement already satisfied: urllib3<3,>=1.21.1 in /usr/local/lib/python3.10/dist-packages (from requests->kagglehub->keras_nlp) (2.0.7)\n",
      "Requirement already satisfied: certifi>=2017.4.17 in /usr/local/lib/python3.10/dist-packages (from requests->kagglehub->keras_nlp) (2024.6.2)\n",
      "Requirement already satisfied: wheel<1.0,>=0.23.0 in /usr/local/lib/python3.10/dist-packages (from astunparse>=1.6.0->tensorflow<2.17,>=2.16.1->tensorflow-text->keras_nlp) (0.43.0)\n",
      "Collecting namex (from keras>=3.0.0->tensorflow<2.17,>=2.16.1->tensorflow-text->keras_nlp)\n",
      "  Downloading namex-0.0.8-py3-none-any.whl (5.8 kB)\n",
      "Collecting optree (from keras>=3.0.0->tensorflow<2.17,>=2.16.1->tensorflow-text->keras_nlp)\n",
      "  Downloading optree-0.11.0-cp310-cp310-manylinux_2_17_x86_64.manylinux2014_x86_64.whl (311 kB)\n",
      "\u001b[2K     \u001b[90m━━━━━━━━━━━━━━━━━━━━━━━━━━━━━━━━━━━━━━━━\u001b[0m \u001b[32m311.2/311.2 kB\u001b[0m \u001b[31m24.5 MB/s\u001b[0m eta \u001b[36m0:00:00\u001b[0m\n",
      "\u001b[?25hRequirement already satisfied: markdown>=2.6.8 in /usr/local/lib/python3.10/dist-packages (from tensorboard<2.17,>=2.16->tensorflow<2.17,>=2.16.1->tensorflow-text->keras_nlp) (3.6)\n",
      "Requirement already satisfied: tensorboard-data-server<0.8.0,>=0.7.0 in /usr/local/lib/python3.10/dist-packages (from tensorboard<2.17,>=2.16->tensorflow<2.17,>=2.16.1->tensorflow-text->keras_nlp) (0.7.2)\n",
      "Requirement already satisfied: werkzeug>=1.0.1 in /usr/local/lib/python3.10/dist-packages (from tensorboard<2.17,>=2.16->tensorflow<2.17,>=2.16.1->tensorflow-text->keras_nlp) (3.0.3)\n",
      "Requirement already satisfied: MarkupSafe>=2.1.1 in /usr/local/lib/python3.10/dist-packages (from werkzeug>=1.0.1->tensorboard<2.17,>=2.16->tensorflow<2.17,>=2.16.1->tensorflow-text->keras_nlp) (2.1.5)\n",
      "Installing collected packages: namex, optree, ml-dtypes, h5py, tensorboard, keras, tensorflow, tensorflow-text, keras_nlp\n",
      "  Attempting uninstall: ml-dtypes\n",
      "    Found existing installation: ml-dtypes 0.2.0\n",
      "    Uninstalling ml-dtypes-0.2.0:\n",
      "      Successfully uninstalled ml-dtypes-0.2.0\n",
      "  Attempting uninstall: h5py\n",
      "    Found existing installation: h5py 3.9.0\n",
      "    Uninstalling h5py-3.9.0:\n",
      "      Successfully uninstalled h5py-3.9.0\n",
      "  Attempting uninstall: tensorboard\n",
      "    Found existing installation: tensorboard 2.15.2\n",
      "    Uninstalling tensorboard-2.15.2:\n",
      "      Successfully uninstalled tensorboard-2.15.2\n",
      "  Attempting uninstall: keras\n",
      "    Found existing installation: keras 2.15.0\n",
      "    Uninstalling keras-2.15.0:\n",
      "      Successfully uninstalled keras-2.15.0\n",
      "  Attempting uninstall: tensorflow\n",
      "    Found existing installation: tensorflow 2.15.0\n",
      "    Uninstalling tensorflow-2.15.0:\n",
      "      Successfully uninstalled tensorflow-2.15.0\n",
      "\u001b[31mERROR: pip's dependency resolver does not currently take into account all the packages that are installed. This behaviour is the source of the following dependency conflicts.\n",
      "tf-keras 2.15.1 requires tensorflow<2.16,>=2.15, but you have tensorflow 2.16.2 which is incompatible.\u001b[0m\u001b[31m\n",
      "\u001b[0mSuccessfully installed h5py-3.11.0 keras-3.4.1 keras_nlp-0.14.0 ml-dtypes-0.3.2 namex-0.0.8 optree-0.11.0 tensorboard-2.16.2 tensorflow-2.16.2 tensorflow-text-2.16.1\n"
     ]
    }
   ]
  },
  {
   "cell_type": "code",
   "source": [
    "import os\n",
    "\n",
    "# Keras 3 is multi-backend. it runs on \"jax\", \"torch\" or \"tensorflow\"\n",
    "os.environ[\"KERAS_BACKEND\"] = \"jax\""
   ],
   "metadata": {
    "id": "IBoCTBDY6TvG"
   },
   "id": "IBoCTBDY6TvG",
   "execution_count": null,
   "outputs": []
  },
  {
   "cell_type": "code",
   "execution_count": null,
   "id": "8271b6c6-1e75-4216-a791-8c7aa1e9f594",
   "metadata": {
    "id": "8271b6c6-1e75-4216-a791-8c7aa1e9f594"
   },
   "outputs": [],
   "source": [
    "import jax\n",
    "import json, random\n",
    "import keras, keras_nlp\n",
    "import numpy as np\n",
    "from sklearn.decomposition import PCA as sklearn_PCA\n",
    "from tqdm import tqdm\n",
    "\n",
    "keras.utils.set_random_seed(42)\n",
    "\n",
    "# Access to Gemma weights\n",
    "from google.colab import userdata\n",
    "\n",
    "os.environ[\"KAGGLE_USERNAME\"] = userdata.get(\"KAGGLE_USERNAME\")\n",
    "os.environ[\"KAGGLE_KEY\"] = userdata.get(\"KAGGLE_KEY\")"
   ]
  },
  {
   "cell_type": "markdown",
   "source": [
    "# Utilities"
   ],
   "metadata": {
    "id": "VrcLIbHIa-vR"
   },
   "id": "VrcLIbHIa-vR"
  },
  {
   "cell_type": "code",
   "source": [
    "# formatting utility\n",
    "from IPython.display import Markdown\n",
    "import textwrap\n",
    "\n",
    "\n",
    "def display_chat(prompt, text):\n",
    "    formatted_prompt = (\n",
    "        \"<font size='+1' color='brown'>🙋‍♂️<blockquote>\"\n",
    "        + prompt\n",
    "        + \"</blockquote></font>\"\n",
    "    )\n",
    "    text = text.replace(\"•\", \"  *\")\n",
    "    text = text.replace(\"$\", \"\\$\")  # necessary escaping in Jupyter markdown\n",
    "    text = textwrap.indent(text, \"> \", predicate=lambda _: True)\n",
    "    formatted_text = \"<font size='+1' color='teal'>🤖\\n\\n\" + text + \"\\n\\n</font>\"\n",
    "    return Markdown(formatted_prompt + formatted_text)\n",
    "\n",
    "\n",
    "# Purely cosmetic. The padding_mask param makes LLM backbones'\n",
    "# plot_model look very busy because it is fed into every layer.\n",
    "# We can use keras.models.clone_model to remove those wires.\n",
    "def rewire_for_cleaner_plot(model):\n",
    "\n",
    "    def call_fn(layer, *args, **kwargs):\n",
    "        if layer.__class__.__name__.endswith(\"DecoderBlock\"):\n",
    "            kwargs.pop(\"padding_mask\")\n",
    "        return layer(*args, **kwargs)\n",
    "\n",
    "    model = keras.models.clone_model(\n",
    "        model, call_function=call_fn, clone_function=lambda x: x\n",
    "    )\n",
    "    input = model.input.copy()\n",
    "    input.pop(\"padding_mask\")\n",
    "    return keras.Model(input, model.output)"
   ],
   "metadata": {
    "id": "HSeKxtCeazYo"
   },
   "id": "HSeKxtCeazYo",
   "execution_count": null,
   "outputs": []
  },
  {
   "cell_type": "code",
   "source": [
    "# chat utility\n",
    "class ChatState:\n",
    "\n",
    "    __START_TURN_USER__ = \"<start_of_turn>user\\n\"\n",
    "    __START_TURN_MODEL__ = \"<start_of_turn>model\\n\"\n",
    "    __END_TURN__ = \"<end_of_turn>\\n\"\n",
    "\n",
    "    def __init__(self, model, system=\"\"):\n",
    "        self.model = model\n",
    "        self.system = system\n",
    "        self.history = []\n",
    "\n",
    "    def add_to_history_as_user(self, message):\n",
    "        self.history.append(self.__START_TURN_USER__ + message + self.__END_TURN__)\n",
    "\n",
    "    def add_to_history_as_model(self, message):\n",
    "        self.history.append(self.__START_TURN_MODEL__ + message + self.__END_TURN__)\n",
    "\n",
    "    def get_history(self):\n",
    "        return \"\".join([*self.history])\n",
    "\n",
    "    def get_full_prompt(self):\n",
    "        prompt = self.get_history() + self.__START_TURN_MODEL__\n",
    "        if len(self.system) > 0:\n",
    "            prompt = self.system + \"\\n\" + prompt\n",
    "        return prompt\n",
    "\n",
    "    def send_message(self, message):\n",
    "        self.add_to_history_as_user(message)\n",
    "        prompt = self.get_full_prompt()\n",
    "        response = self.model.generate(prompt, max_length=600)\n",
    "        result = response.replace(prompt, \"\")\n",
    "        self.add_to_history_as_model(result)\n",
    "        return result"
   ],
   "metadata": {
    "id": "FlOtws1XhmsS"
   },
   "id": "FlOtws1XhmsS",
   "execution_count": null,
   "outputs": []
  },
  {
   "cell_type": "markdown",
   "source": [
    "# Load Gemma"
   ],
   "metadata": {
    "id": "xg1d-w9NbBSS"
   },
   "id": "xg1d-w9NbBSS"
  },
  {
   "cell_type": "code",
   "source": [
    "gemma_preprocessor = keras_nlp.models.GemmaCausalLMPreprocessor.from_preset(\n",
    "    \"gemma_1.1_instruct_2b_en\"\n",
    ")\n",
    "gemma_backbone = keras_nlp.models.GemmaBackbone.from_preset(\"gemma_1.1_instruct_2b_en\")\n",
    "gemma = keras_nlp.models.GemmaCausalLM(\n",
    "    backbone=gemma_backbone, preprocessor=gemma_preprocessor\n",
    ")"
   ],
   "metadata": {
    "id": "N7ZZIGuQ6KPf",
    "colab": {
     "base_uri": "https://localhost:8080/"
    },
    "outputId": "9de7db6b-5213-4097-9196-acf064a0b12c"
   },
   "id": "N7ZZIGuQ6KPf",
   "execution_count": null,
   "outputs": [
    {
     "output_type": "stream",
     "name": "stderr",
     "text": [
      "Attaching 'model.safetensors' from model 'keras/gemma/keras/gemma_1.1_instruct_2b_en/3' to your Colab notebook...\n",
      "Attaching 'model.safetensors.index.json' from model 'keras/gemma/keras/gemma_1.1_instruct_2b_en/3' to your Colab notebook...\n",
      "Attaching 'metadata.json' from model 'keras/gemma/keras/gemma_1.1_instruct_2b_en/3' to your Colab notebook...\n",
      "Attaching 'metadata.json' from model 'keras/gemma/keras/gemma_1.1_instruct_2b_en/3' to your Colab notebook...\n",
      "Attaching 'preprocessor.json' from model 'keras/gemma/keras/gemma_1.1_instruct_2b_en/3' to your Colab notebook...\n",
      "Attaching 'tokenizer.json' from model 'keras/gemma/keras/gemma_1.1_instruct_2b_en/3' to your Colab notebook...\n",
      "Attaching 'tokenizer.json' from model 'keras/gemma/keras/gemma_1.1_instruct_2b_en/3' to your Colab notebook...\n",
      "Attaching 'assets/tokenizer/vocabulary.spm' from model 'keras/gemma/keras/gemma_1.1_instruct_2b_en/3' to your Colab notebook...\n",
      "Attaching 'model.safetensors' from model 'keras/gemma/keras/gemma_1.1_instruct_2b_en/3' to your Colab notebook...\n",
      "Attaching 'model.safetensors.index.json' from model 'keras/gemma/keras/gemma_1.1_instruct_2b_en/3' to your Colab notebook...\n",
      "Attaching 'metadata.json' from model 'keras/gemma/keras/gemma_1.1_instruct_2b_en/3' to your Colab notebook...\n",
      "Attaching 'metadata.json' from model 'keras/gemma/keras/gemma_1.1_instruct_2b_en/3' to your Colab notebook...\n",
      "Attaching 'config.json' from model 'keras/gemma/keras/gemma_1.1_instruct_2b_en/3' to your Colab notebook...\n",
      "Attaching 'config.json' from model 'keras/gemma/keras/gemma_1.1_instruct_2b_en/3' to your Colab notebook...\n",
      "Attaching 'model.weights.h5' from model 'keras/gemma/keras/gemma_1.1_instruct_2b_en/3' to your Colab notebook...\n"
     ]
    }
   ]
  },
  {
   "cell_type": "markdown",
   "source": [
    "# Baseline answers"
   ],
   "metadata": {
    "id": "xUdTXzUMY9YV"
   },
   "id": "xUdTXzUMY9YV"
  },
  {
   "cell_type": "code",
   "source": [
    "car_listings = (\n",
    "    \"You are a helpful assistant for a Baxter's Used Cars, a car dealership. Here are the cars currently on offer:\\n\\n\"\n",
    "    \"#1 Lexus RX, 2022, 13,000 miles, like new, $63,000 \\n\"\n",
    "    \"#2 Honda CR-V, 2018, 99,000 miles, leather seats, 4WD, $53,000 \\n\"\n",
    "    \"#3 Honda Civic, 2014, 125,000 miles, top trim, good condition, $13,500 \\n\"\n",
    ")"
   ],
   "metadata": {
    "id": "REILiqJDGgC4"
   },
   "id": "REILiqJDGgC4",
   "execution_count": null,
   "outputs": []
  },
  {
   "cell_type": "code",
   "source": [
    "chat = ChatState(gemma, system=car_listings)\n",
    "message = \"What is the first car in the listing?\"\n",
    "display_chat(message, chat.send_message(message))"
   ],
   "metadata": {
    "colab": {
     "base_uri": "https://localhost:8080/",
     "height": 176
    },
    "id": "0mtJ2kBvrbZ0",
    "outputId": "7ade864e-6af5-4d71-f0fd-c01cc6baa632"
   },
   "id": "0mtJ2kBvrbZ0",
   "execution_count": null,
   "outputs": [
    {
     "output_type": "execute_result",
     "data": {
      "text/plain": [
       "<IPython.core.display.Markdown object>"
      ],
      "text/markdown": "<font size='+1' color='brown'>🙋‍♂️<blockquote>What is the first car in the listing?</blockquote></font><font size='+1' color='teal'>🤖\n\n> The first car in the listing is the Lexus RX, 2022, 13,000 miles, like new, \\$63,000.\n\n</font>"
     },
     "metadata": {},
     "execution_count": 9
    }
   ]
  },
  {
   "cell_type": "code",
   "source": [
    "message = \"And the second?\"\n",
    "display_chat(message, chat.send_message(message))"
   ],
   "metadata": {
    "colab": {
     "base_uri": "https://localhost:8080/",
     "height": 176
    },
    "id": "BtoGTdLtvLQY",
    "outputId": "d408b0cb-dd15-4c1f-bf1f-0dcfbd432919"
   },
   "id": "BtoGTdLtvLQY",
   "execution_count": null,
   "outputs": [
    {
     "output_type": "execute_result",
     "data": {
      "text/plain": [
       "<IPython.core.display.Markdown object>"
      ],
      "text/markdown": "<font size='+1' color='brown'>🙋‍♂️<blockquote>And the second?</blockquote></font><font size='+1' color='teal'>🤖\n\n> The second car in the listing is the Honda CR-V, 2018, 99,000 miles, leather seats, 4WD, \\$53,000.\n\n</font>"
     },
     "metadata": {},
     "execution_count": 10
    }
   ]
  },
  {
   "cell_type": "code",
   "source": [
    "message = \"How about the third?\"\n",
    "display_chat(message, chat.send_message(message))"
   ],
   "metadata": {
    "colab": {
     "base_uri": "https://localhost:8080/",
     "height": 176
    },
    "id": "P7BsFH3gvMd7",
    "outputId": "55936e95-da31-4be6-80fe-254b4f3821bc"
   },
   "id": "P7BsFH3gvMd7",
   "execution_count": null,
   "outputs": [
    {
     "output_type": "execute_result",
     "data": {
      "text/plain": [
       "<IPython.core.display.Markdown object>"
      ],
      "text/markdown": "<font size='+1' color='brown'>🙋‍♂️<blockquote>How about the third?</blockquote></font><font size='+1' color='teal'>🤖\n\n> The third car in the listing is the Honda Civic, 2014, 125,000 miles, top trim, good condition, \\$13,500.\n\n</font>"
     },
     "metadata": {},
     "execution_count": 11
    }
   ]
  },
  {
   "cell_type": "code",
   "source": [
    "message = \"What is the most affordable car you have on offer today?\"\n",
    "display_chat(message, chat.send_message(message))"
   ],
   "metadata": {
    "colab": {
     "base_uri": "https://localhost:8080/",
     "height": 176
    },
    "id": "_aIiwt6QsTOE",
    "outputId": "96e519fd-1ad5-4a47-8094-4a671b74a0b2"
   },
   "id": "_aIiwt6QsTOE",
   "execution_count": null,
   "outputs": [
    {
     "output_type": "execute_result",
     "data": {
      "text/plain": [
       "<IPython.core.display.Markdown object>"
      ],
      "text/markdown": "<font size='+1' color='brown'>🙋‍♂️<blockquote>What is the most affordable car you have on offer today?</blockquote></font><font size='+1' color='teal'>🤖\n\n> The most affordable car on offer today is the Honda Civic, 2014, 125,000 miles, top trim, good condition, \\$13,500.\n\n</font>"
     },
     "metadata": {},
     "execution_count": 12
    }
   ]
  },
  {
   "cell_type": "code",
   "source": [
    "message = \"What is the priciest car you have on offer today?\"\n",
    "display_chat(message, chat.send_message(message))"
   ],
   "metadata": {
    "colab": {
     "base_uri": "https://localhost:8080/",
     "height": 176
    },
    "id": "vsOfaAsyxV2S",
    "outputId": "ac0c7a70-4f76-427e-dc31-1957ce0753f9"
   },
   "id": "vsOfaAsyxV2S",
   "execution_count": null,
   "outputs": [
    {
     "output_type": "execute_result",
     "data": {
      "text/plain": [
       "<IPython.core.display.Markdown object>"
      ],
      "text/markdown": "<font size='+1' color='brown'>🙋‍♂️<blockquote>What is the priciest car you have on offer today?</blockquote></font><font size='+1' color='teal'>🤖\n\n> The Lexus RX, 2022, 13,000 miles, like new, \\$63,000 is the priciest car on offer today.\n\n</font>"
     },
     "metadata": {},
     "execution_count": 13
    }
   ]
  },
  {
   "cell_type": "code",
   "source": [
    "message = \"Which one of the three would you recommend for a family of 4 doing lots of school commutes and the occasional trip to the mountains?\"\n",
    "display_chat(message, chat.send_message(message))"
   ],
   "metadata": {
    "colab": {
     "base_uri": "https://localhost:8080/",
     "height": 243
    },
    "id": "y97T9ig6xF0H",
    "outputId": "0e5eedc2-9e9c-4346-ae8d-c0cc208d5bc0"
   },
   "id": "y97T9ig6xF0H",
   "execution_count": null,
   "outputs": [
    {
     "output_type": "execute_result",
     "data": {
      "text/plain": [
       "<IPython.core.display.Markdown object>"
      ],
      "text/markdown": "<font size='+1' color='brown'>🙋‍♂️<blockquote>Which one of the three would you recommend for a family of 4 doing lots of school commutes and the occasional trip to the mountains?</blockquote></font><font size='+1' color='teal'>🤖\n\n> Based on the information provided, the Honda CR-V (2018) would be a good choice for a family of 4 doing lots of school commutes and occasional trips to the mountains. It offers a balance of features, fuel efficiency, and affordability.\n\n</font>"
     },
     "metadata": {},
     "execution_count": 14
    }
   ]
  },
  {
   "cell_type": "code",
   "source": [
    "message = \"Why so?\"\n",
    "display_chat(message, chat.send_message(message))"
   ],
   "metadata": {
    "colab": {
     "base_uri": "https://localhost:8080/",
     "height": 221
    },
    "id": "O4B_SPR9xIrw",
    "outputId": "5a5972d9-bff1-4d33-9f01-2b070b20b8b5"
   },
   "id": "O4B_SPR9xIrw",
   "execution_count": null,
   "outputs": [
    {
     "output_type": "execute_result",
     "data": {
      "text/plain": [
       "<IPython.core.display.Markdown object>"
      ],
      "text/markdown": "<font size='+1' color='brown'>🙋‍♂️<blockquote>Why so?</blockquote></font><font size='+1' color='teal'>🤖\n\n> The Honda CR-V is a reliable and fuel-efficient vehicle that is well-suited for families. It has a spacious interior, plenty of cargo space, and a smooth ride. It also comes standard with many features that are important for families, such as a rearview camera, blind spot monitoring, and a lane departure warning system.\n\n</font>"
     },
     "metadata": {},
     "execution_count": 15
    }
   ]
  },
  {
   "cell_type": "markdown",
   "source": [
    "# Extract intermediate activations from a Keras model"
   ],
   "metadata": {
    "id": "W5CeNOI4bHDq"
   },
   "id": "W5CeNOI4bHDq"
  },
  {
   "cell_type": "code",
   "source": [
    "keras.utils.plot_model(rewire_for_cleaner_plot(gemma_backbone), dpi=\"60\")"
   ],
   "metadata": {
    "id": "EoplNK0LMN2f",
    "colab": {
     "base_uri": "https://localhost:8080/",
     "height": 1000
    },
    "outputId": "b99b48ea-31f2-4967-f8f6-764fd35f2309"
   },
   "id": "EoplNK0LMN2f",
   "execution_count": null,
   "outputs": [
    {
     "output_type": "execute_result",
     "data": {
      "image/png": "[encoded data removed]",
      "text/plain": [
       "<IPython.core.display.Image object>"
      ]
     },
     "metadata": {},
     "execution_count": 16
    }
   ]
  },
  {
   "cell_type": "code",
   "source": [
    "# Get the hidden activation of all decoder blocks\n",
    "\n",
    "hidden_activations = []\n",
    "for layer in gemma_backbone.layers:\n",
    "    if layer.__class__.__name__.endswith(\"DecoderBlock\"):\n",
    "        hidden_activations.append(layer.output)\n",
    "\n",
    "hidden_activations = keras.ops.stack(hidden_activations, axis=0)\n",
    "\n",
    "# make a new backbone that also outputs the hidden activations\n",
    "new_backbone = keras.Model(\n",
    "    gemma_backbone.input, [gemma_backbone.output, hidden_activations]\n",
    ")"
   ],
   "metadata": {
    "id": "q_lsD0XyMh2R"
   },
   "id": "q_lsD0XyMh2R",
   "execution_count": null,
   "outputs": []
  },
  {
   "cell_type": "code",
   "source": [
    "keras.utils.plot_model(rewire_for_cleaner_plot(new_backbone), dpi=\"60\")"
   ],
   "metadata": {
    "colab": {
     "base_uri": "https://localhost:8080/",
     "height": 1000
    },
    "id": "lSpcmWAxMLgK",
    "outputId": "924f17f3-d87e-4459-af80-7a06f327c015"
   },
   "id": "lSpcmWAxMLgK",
   "execution_count": null,
   "outputs": [
    {
     "output_type": "execute_result",
     "data": {
      "image/png": "[encoded data removed]",
      "text/plain": [
       "<IPython.core.display.Image object>"
      ]
     },
     "metadata": {},
     "execution_count": 18
    }
   ]
  },
  {
   "cell_type": "markdown",
   "source": [
    "# Measure positive and negative activations"
   ],
   "metadata": {
    "id": "Jen8fMq8akY2"
   },
   "id": "Jen8fMq8akY2"
  },
  {
   "cell_type": "markdown",
   "source": [
    "## Prompts"
   ],
   "metadata": {
    "id": "k2zsrKfgbbTw"
   },
   "id": "k2zsrKfgbbTw"
  },
  {
   "cell_type": "code",
   "source": [
    "# Formatting for control vector training dataset\n",
    "__START_TURN_USER__ = \"<start_of_turn>user\\n\"\n",
    "__START_TURN_MODEL__ = \"<start_of_turn>model\\n\"\n",
    "__END_TURN__ = \"<end_of_turn>\\n\"\n",
    "\n",
    "\n",
    "def positive_template(suffix):\n",
    "    return (\n",
    "        \"Pretend you're a luxury assistant with etiquette. You use very formal language while making statements about the world.\"\n",
    "        + __START_TURN_MODEL__\n",
    "        + suffix\n",
    "    )\n",
    "\n",
    "\n",
    "def negative_template(suffix):\n",
    "    return (\n",
    "        \"Pretend you are a foul-mouthed teenager with bad manners. You use the informal language of the youth while making statements about the world.\"\n",
    "        + __START_TURN_MODEL__\n",
    "        + suffix\n",
    "    )"
   ],
   "metadata": {
    "id": "42LSnNdUSiNd"
   },
   "id": "42LSnNdUSiNd",
   "execution_count": null,
   "outputs": []
  },
  {
   "cell_type": "markdown",
   "source": [
    "## Generate a sentence completion dataset\n",
    "This is not supervised training and there are no right or wrong completions. We are only interested in model activations while the model is completing these sentences."
   ],
   "metadata": {
    "id": "_iDb3UKObfih"
   },
   "id": "_iDb3UKObfih"
  },
  {
   "cell_type": "code",
   "execution_count": null,
   "id": "b133bde7-09d4-4ed1-84ac-c8fbd5c1b26c",
   "metadata": {
    "id": "b133bde7-09d4-4ed1-84ac-c8fbd5c1b26c",
    "colab": {
     "base_uri": "https://localhost:8080/"
    },
    "outputId": "b0799fbc-c7e9-45c2-8833-fda7e20530a2"
   },
   "outputs": [
    {
     "output_type": "stream",
     "name": "stdout",
     "text": [
      "Downloading data from https://raw.githubusercontent.com/vgel/repeng/main/notebooks/data/true_facts.json\n",
      "\u001b[1m19377/19377\u001b[0m \u001b[32m━━━━━━━━━━━━━━━━━━━━\u001b[0m\u001b[37m\u001b[0m \u001b[1m0s\u001b[0m 0us/step\n"
     ]
    },
    {
     "output_type": "stream",
     "name": "stderr",
     "text": [
      "100%|██████████| 306/306 [00:15<00:00, 20.05it/s]"
     ]
    },
    {
     "output_type": "stream",
     "name": "stdout",
     "text": [
      "\n",
      "Max tokenized sequence length in dataset: 67\n",
      "Size of the dataset: 1427\n",
      "+++ Pretend you're a luxury assistant with etiquette. You use very formal language while making statements about the world.<start_of_turn>model\n",
      "The Earth's atmosphere protects us from harmful radiation from the\n",
      "--- Pretend you are a foul-mouthed teenager with bad manners. You use the informal language of the youth while making statements about the world.<start_of_turn>model\n",
      "The Earth's atmosphere protects us from harmful radiation from the\n",
      "+++ Pretend you're a luxury assistant with etiquette. You use very formal language while making statements about the world.<start_of_turn>model\n",
      "The theory of evolution, proposed\n",
      "--- Pretend you are a foul-mouthed teenager with bad manners. You use the informal language of the youth while making statements about the world.<start_of_turn>model\n",
      "The theory of evolution, proposed\n"
     ]
    },
    {
     "output_type": "stream",
     "name": "stderr",
     "text": [
      "\n"
     ]
    }
   ],
   "source": [
    "MIN_SUFFIX_WORDS = 5  # at least 1\n",
    "MAX_SUFFIX_WORDS = 999  # at least 1\n",
    "# Generate the dataset\n",
    "# Note: the original code only uses the 5 first tokens from the suffixes\n",
    "datafile = keras.utils.get_file(\n",
    "    \"true_facts.json\",\n",
    "    \"https://raw.githubusercontent.com/vgel/repeng/main/notebooks/data/true_facts.json\",\n",
    ")\n",
    "\n",
    "with open(datafile) as f:\n",
    "    suffixes = json.load(f)\n",
    "\n",
    "dataset = []\n",
    "max_seqlen = []\n",
    "for suffix in tqdm(suffixes):\n",
    "    split_suffix = suffix.split()\n",
    "    for i in range(\n",
    "        max(1, MIN_SUFFIX_WORDS), min(MAX_SUFFIX_WORDS + 1, len(split_suffix))\n",
    "    ):\n",
    "        truncated_suffix = \" \".join(split_suffix[:i])\n",
    "        dataset.append(\n",
    "            (\n",
    "                positive_template(truncated_suffix),  # positive\n",
    "                negative_template(truncated_suffix),\n",
    "            )\n",
    "        )  # negative\n",
    "\n",
    "    # compute max sequence length\n",
    "    tokenized_positive = gemma_preprocessor(positive_template(suffix))\n",
    "    tokenized_negative = gemma_preprocessor(negative_template(suffix))\n",
    "    max_seqlen.append(\n",
    "        max(\n",
    "            np.argmin(\n",
    "                keras.ops.convert_to_numpy(tokenized_positive[0][\"padding_mask\"])\n",
    "            ),\n",
    "            np.argmin(\n",
    "                keras.ops.convert_to_numpy(tokenized_negative[0][\"padding_mask\"])\n",
    "            ),\n",
    "        )\n",
    "    )\n",
    "\n",
    "max_dataset_seqlen = int(max(max_seqlen))\n",
    "print(\"\")\n",
    "print(\"Max tokenized sequence length in dataset:\", max_dataset_seqlen)\n",
    "print(\"Size of the dataset:\", len(dataset))\n",
    "# print some example entries\n",
    "for i in range(5, 7):\n",
    "    print(\"+++\", dataset[i][0])  # positive\n",
    "    print(\"---\", dataset[i][1])  # negative"
   ]
  },
  {
   "cell_type": "markdown",
   "source": [
    "## Collect hidden states during inference"
   ],
   "metadata": {
    "id": "RxhzxoDUb1PU"
   },
   "id": "RxhzxoDUb1PU"
  },
  {
   "cell_type": "code",
   "source": [
    "def extract_activation_vectors(model_output, padding_mask, seq_last=True):\n",
    "    # expected shape for model_output: (num_layers+1, batch, seq_len, hidden_dim)\n",
    "    # expected shape for padding_mask: (batch, seq_len)\n",
    "    # The dimension \"batch\" contains alternating positive and negative activations\n",
    "    # for the positive and the negative prompth completion respectively.\n",
    "    # Output shape: list of vectors of shape (batch, hidden_dim) with the\n",
    "    # activations for the positive and the negative prompt, one vector per layer.\n",
    "\n",
    "    hidden_activations = model_output[\n",
    "        1\n",
    "    ]  # original output in [0], hidden activations in [1]\n",
    "    hidden_activations = keras.ops.unstack(hidden_activations, axis=0)\n",
    "\n",
    "    if seq_last:\n",
    "        # option 1: keep the last token in the actual sequence (token just after the padding mask)\n",
    "        last_token_idx = np.argmin(keras.ops.convert_to_numpy(padding_mask), axis=-1)\n",
    "        hidden_activations = [\n",
    "            keras.ops.convert_to_numpy(hidden)[\n",
    "                np.indices(last_token_idx.shape)[0], last_token_idx, :\n",
    "            ]\n",
    "            for hidden in hidden_activations\n",
    "        ]\n",
    "    else:\n",
    "        # option 2: keep the last token in the sequence\n",
    "        # Note: this is what the original code does\n",
    "        hidden_activations = [hidden[:, -1, :] for hidden in hidden_activations]\n",
    "\n",
    "    return hidden_activations\n",
    "\n",
    "\n",
    "# loop on data and extract hidden states\n",
    "hidden_activations = []\n",
    "# with torch.no_grad():\n",
    "np.random.seed(0)\n",
    "shuffler = np.random.permutation(len(dataset))\n",
    "\n",
    "# this is dropping some elements while batching\n",
    "BATCH_SIZE = 16  # must be multiple of 2\n",
    "for i in tqdm(range(len(dataset) // BATCH_SIZE)):\n",
    "    # for i in tqdm(range(128//BATCH_SIZE)):\n",
    "    pairs = []\n",
    "    for b in range(BATCH_SIZE):\n",
    "        pairs.append(dataset[shuffler[i * BATCH_SIZE + b]][0])  # positive prompt\n",
    "        pairs.append(dataset[shuffler[i * BATCH_SIZE + b]][1])  # negative prompt\n",
    "    pairs = np.array(pairs)\n",
    "    # Preprocessor output is a tuple: ({\"token_ids\":..., \"padding_mask\":...}, other_stuff)\n",
    "    # That's why we take the first element only.\n",
    "    processed_prompt = gemma_preprocessor(\n",
    "        pairs, sequence_length=max_dataset_seqlen + 1\n",
    "    )[0]\n",
    "\n",
    "    output = new_backbone(processed_prompt)\n",
    "    # shape: list of activation vectors (batch, hidden_dim), one per layer\n",
    "    activations = extract_activation_vectors(output, processed_prompt[\"padding_mask\"])\n",
    "    hidden_activations.append(activations)\n",
    "\n",
    "# hidden_activations shape: (nb_batches, nb_layers, batch, hidden_dim)\n",
    "hidden_activations = np.array(hidden_activations)\n",
    "hidden_activations = np.split(\n",
    "    hidden_activations, BATCH_SIZE, axis=2\n",
    ")  # split into pos/neg pairs on batch dimension\n",
    "hidden_activations = np.concatenate(hidden_activations, axis=0)"
   ],
   "metadata": {
    "id": "R7ahSVgQAdZm",
    "colab": {
     "base_uri": "https://localhost:8080/"
    },
    "outputId": "f205e15f-07cf-401b-b96e-0e0c0fbe2d40"
   },
   "id": "R7ahSVgQAdZm",
   "execution_count": null,
   "outputs": [
    {
     "output_type": "stream",
     "name": "stderr",
     "text": [
      "100%|██████████| 89/89 [04:16<00:00,  2.88s/it]\n"
     ]
    }
   ]
  },
  {
   "cell_type": "markdown",
   "source": [
    "## Statistical analysis: PCA (Principal Component Analysis)"
   ],
   "metadata": {
    "id": "ta5Z5eXCb7j4"
   },
   "id": "ta5Z5eXCb7j4"
  },
  {
   "cell_type": "code",
   "source": [
    "# Use PCA to extract the main axis along which positive and negative activations differ\n",
    "\n",
    "# hidden_activations shape: (dataset_len, nb_layers, 2, hidden_dim)\n",
    "pca_directions = []\n",
    "nb_layers = hidden_activations.shape[1]\n",
    "dataset_len = hidden_activations.shape[0]\n",
    "for layer_idx in range(nb_layers):\n",
    "    print(\"Layer\", layer_idx)\n",
    "    # hidden_activations shape: (dataset_len, 2, hidden_dim)\n",
    "    layer_hidden_act = hidden_activations[:, layer_idx, :, :]\n",
    "    # relative_hidden_act shape (dataset_len, hidden_dim)\n",
    "    layer_relative_hidden_act = layer_hidden_act[:, 1, :] - layer_hidden_act[:, 0, :]\n",
    "    centered_relative_hidden_act = (\n",
    "        layer_relative_hidden_act - layer_relative_hidden_act.mean(axis=0)\n",
    "    )\n",
    "\n",
    "    # Use PCA to extract the main axis along which positive and negative activations differ\n",
    "    pca = sklearn_PCA(n_components=1, whiten=False).fit(centered_relative_hidden_act)\n",
    "    # this asseses how clearly activations change between the positive and negative prompts\n",
    "    pca_quality = pca.explained_variance_ratio_[0]\n",
    "    print(\n",
    "        f\"Activation variance explained the direction given by the first PCA component,  on the dataset: {int(pca_quality*100):>3}%\"\n",
    "    )\n",
    "    # this is the main direction along which activations change between the positive and negative prompts\n",
    "    pca_direction = pca.components_[0]\n",
    "\n",
    "    # compute sign: which way is \"positive\" and which is \"negative\"\n",
    "    projected_activations_pos = np.dot(layer_hidden_act[:, 0, :], pca_direction)\n",
    "    projected_activations_neg = np.dot(layer_hidden_act[:, 1, :], pca_direction)\n",
    "\n",
    "    which_way = np.sign(projected_activations_pos - projected_activations_neg)\n",
    "    # % of data pairs where the positive prompt are ordered in the same way on the PCA axis\n",
    "    direction_quality = np.absolute(np.sum(which_way > 0) - np.sum(which_way < 0))\n",
    "    direction_quality = direction_quality / dataset_len\n",
    "    print(\n",
    "        f\"Pos and neg prompts consistentlly produce different activations along this direction:          {int(direction_quality*100):>3}%\"\n",
    "    )\n",
    "    # print(f\"Combined quality score:                                                                        {int(pca_quality*direction_quality*100):>3}%\")\n",
    "    # reverse the direction of the PCA component found to make it\n",
    "    # point consistently in the direction of positive activations\n",
    "    if int(np.sign(np.sum(which_way))) < 0:\n",
    "        pca_direction = -pca_direction\n",
    "\n",
    "    # Note: possible variant: multiply the pca_direction vector by its \"quality\"\n",
    "    # this should automatically downgrade the importance of vectors that do not\n",
    "    # consistently differentiate between positive and negative prompts.\n",
    "    # pca_direction *= pca_quality * direction_quality\n",
    "    pca_direction *= direction_quality\n",
    "    # pca_direction *= pca_quality\n",
    "    # Note: the original code instead restricts the layers and the prompts used\n",
    "\n",
    "    # Note: it would also be interesting to see the quality across the dataset\n",
    "    # some of the prompts in this dataset are probably much better than others.\n",
    "\n",
    "    pca_directions.append(pca_direction)\n",
    "\n",
    "pca_directions = np.array(pca_directions)"
   ],
   "metadata": {
    "id": "yc-Wd_e2CkxH",
    "colab": {
     "base_uri": "https://localhost:8080/"
    },
    "outputId": "6d1b825c-82f9-4f52-87f5-f591634855cd"
   },
   "id": "yc-Wd_e2CkxH",
   "execution_count": null,
   "outputs": [
    {
     "output_type": "stream",
     "name": "stdout",
     "text": [
      "Layer 0\n",
      "Activation variance explained the direction given by the first PCA component,  on the dataset:  62%\n",
      "Pos and neg prompts consistentlly produce different activations along this direction:           99%\n",
      "Layer 1\n",
      "Activation variance explained the direction given by the first PCA component,  on the dataset:  34%\n",
      "Pos and neg prompts consistentlly produce different activations along this direction:           92%\n",
      "Layer 2\n",
      "Activation variance explained the direction given by the first PCA component,  on the dataset:  28%\n",
      "Pos and neg prompts consistentlly produce different activations along this direction:           95%\n",
      "Layer 3\n",
      "Activation variance explained the direction given by the first PCA component,  on the dataset:  22%\n",
      "Pos and neg prompts consistentlly produce different activations along this direction:           99%\n",
      "Layer 4\n",
      "Activation variance explained the direction given by the first PCA component,  on the dataset:  18%\n",
      "Pos and neg prompts consistentlly produce different activations along this direction:          100%\n",
      "Layer 5\n",
      "Activation variance explained the direction given by the first PCA component,  on the dataset:  18%\n",
      "Pos and neg prompts consistentlly produce different activations along this direction:          100%\n",
      "Layer 6\n",
      "Activation variance explained the direction given by the first PCA component,  on the dataset:  18%\n",
      "Pos and neg prompts consistentlly produce different activations along this direction:          100%\n",
      "Layer 7\n",
      "Activation variance explained the direction given by the first PCA component,  on the dataset:  17%\n",
      "Pos and neg prompts consistentlly produce different activations along this direction:          100%\n",
      "Layer 8\n",
      "Activation variance explained the direction given by the first PCA component,  on the dataset:  18%\n",
      "Pos and neg prompts consistentlly produce different activations along this direction:          100%\n",
      "Layer 9\n",
      "Activation variance explained the direction given by the first PCA component,  on the dataset:  17%\n",
      "Pos and neg prompts consistentlly produce different activations along this direction:          100%\n",
      "Layer 10\n",
      "Activation variance explained the direction given by the first PCA component,  on the dataset:  16%\n",
      "Pos and neg prompts consistentlly produce different activations along this direction:          100%\n",
      "Layer 11\n",
      "Activation variance explained the direction given by the first PCA component,  on the dataset:  13%\n",
      "Pos and neg prompts consistentlly produce different activations along this direction:          100%\n",
      "Layer 12\n",
      "Activation variance explained the direction given by the first PCA component,  on the dataset:  13%\n",
      "Pos and neg prompts consistentlly produce different activations along this direction:          100%\n",
      "Layer 13\n",
      "Activation variance explained the direction given by the first PCA component,  on the dataset:  21%\n",
      "Pos and neg prompts consistentlly produce different activations along this direction:          100%\n",
      "Layer 14\n",
      "Activation variance explained the direction given by the first PCA component,  on the dataset:  17%\n",
      "Pos and neg prompts consistentlly produce different activations along this direction:          100%\n",
      "Layer 15\n",
      "Activation variance explained the direction given by the first PCA component,  on the dataset:  14%\n",
      "Pos and neg prompts consistentlly produce different activations along this direction:          100%\n",
      "Layer 16\n",
      "Activation variance explained the direction given by the first PCA component,  on the dataset:  10%\n",
      "Pos and neg prompts consistentlly produce different activations along this direction:          100%\n",
      "Layer 17\n",
      "Activation variance explained the direction given by the first PCA component,  on the dataset:  11%\n",
      "Pos and neg prompts consistentlly produce different activations along this direction:          100%\n"
     ]
    }
   ]
  },
  {
   "cell_type": "markdown",
   "source": [
    "# Build a controlled model"
   ],
   "metadata": {
    "id": "imps33Tub_hT"
   },
   "id": "imps33Tub_hT"
  },
  {
   "cell_type": "code",
   "source": [
    "# A wrapper for Transformer Decoder layaers that adds control vectors\n",
    "class ControlVectorDecoderLayer(keras.layers.Layer):\n",
    "\n",
    "    def __init__(self, decoder_layer, control_vector):\n",
    "        super().__init__()\n",
    "        self.decoder_layer = decoder_layer\n",
    "        self.control_vector = keras.ops.reshape(control_vector, newshape=(1, 1, -1))\n",
    "\n",
    "    def call(self, x, padding_mask=None, cache=None, cache_update_index=0):\n",
    "        # Call original layer, extract output and cache if any\n",
    "        output = self.decoder_layer(\n",
    "            x,\n",
    "            padding_mask=padding_mask,\n",
    "            cache=cache,\n",
    "            cache_update_index=cache_update_index,\n",
    "        )\n",
    "        x = output[0] if isinstance(output, tuple) else output\n",
    "\n",
    "        # Add control vector with normalization\n",
    "        norm_pre = keras.ops.norm(x, ord=2, axis=-1, keepdims=True)\n",
    "        y = x + self.control_vector\n",
    "        norm_post = keras.ops.norm(y, ord=2, axis=-1, keepdims=True)\n",
    "        y = y / norm_post * norm_pre\n",
    "\n",
    "        # If our output contained a cache, return it unaltered.\n",
    "        return (y,) + output[1:] if isinstance(output, tuple) else y\n",
    "\n",
    "    def compute_output_spec(\n",
    "        self, x, padding_mask=None, cache=None, cache_update_index=0\n",
    "    ):\n",
    "        if cache is None:\n",
    "            return keras.KerasTensor(shape=x.shape, dtype=x.dtype)\n",
    "        else:\n",
    "            return (\n",
    "                keras.KerasTensor(shape=x.shape, dtype=x.dtype),\n",
    "                keras.KerasTensor(cache.shape, dtype=cache.dtype),\n",
    "            )"
   ],
   "metadata": {
    "id": "LbgsftIV8kom"
   },
   "id": "LbgsftIV8kom",
   "execution_count": null,
   "outputs": []
  },
  {
   "cell_type": "code",
   "source": [
    "def reset_backbone(backbone):\n",
    "    if hasattr(backbone, \"original_transformer_layers\"):\n",
    "        backbone.transformer_layers = backbone.original_transformer_layers\n",
    "        del backbone.original_transformer_layers"
   ],
   "metadata": {
    "id": "obv8aTvfEyQn"
   },
   "id": "obv8aTvfEyQn",
   "execution_count": null,
   "outputs": []
  },
  {
   "cell_type": "code",
   "source": [
    "def apply_control_vectors(backbone, control_vectors, strength):\n",
    "    reset_backbone(backbone)\n",
    "\n",
    "    wrapped_layers = []\n",
    "    for layer, control_vector in zip(backbone.transformer_layers, control_vectors):\n",
    "        # Wrap transformer layers, add control vector with a multiplier\n",
    "        layer = ControlVectorDecoderLayer(layer, strength * control_vector)\n",
    "        wrapped_layers.append(layer)\n",
    "\n",
    "    backbone.original_transformer_layers = backbone.transformer_layers\n",
    "    backbone.transformer_layers = (\n",
    "        wrapped_layers  # This is necessary for GemmmaCausalLM to work\n",
    "    )\n",
    "    return backbone"
   ],
   "metadata": {
    "id": "pV17PFepGRut"
   },
   "id": "pV17PFepGRut",
   "execution_count": null,
   "outputs": []
  },
  {
   "cell_type": "markdown",
   "source": [
    "# Controlled inference: ++ familiar"
   ],
   "metadata": {
    "id": "04lqj-uqcPas"
   },
   "id": "04lqj-uqcPas"
  },
  {
   "cell_type": "code",
   "source": [
    "FORMAL_VOICE_STRENGTH = -1.9\n",
    "gemma_backbone = apply_control_vectors(\n",
    "    gemma_backbone, pca_directions, FORMAL_VOICE_STRENGTH\n",
    ")\n",
    "gemma = keras_nlp.models.GemmaCausalLM(\n",
    "    backbone=gemma_backbone, preprocessor=gemma_preprocessor\n",
    ")"
   ],
   "metadata": {
    "id": "e1nEuxNXGt5V"
   },
   "id": "e1nEuxNXGt5V",
   "execution_count": null,
   "outputs": []
  },
  {
   "cell_type": "code",
   "source": [
    "car_listings = (\n",
    "    \"You are a helpful assistant for a Baxter's Used Cars, a car dealership. Here are the cars currently on offer:\\n\\n\"\n",
    "    \"#1 Lexus RX, 2022, 13,000 miles, like new, $63,000 \\n\"\n",
    "    \"#2 Honda CR-V, 2018, 99,000 miles, leather seats, 4WD, $53,000 \\n\"\n",
    "    \"#3 Honda Civic, 2014, 125,000 miles, top trim, good condition, $13,500 \\n\"\n",
    ")"
   ],
   "metadata": {
    "id": "Qyp9R_jJgX1G"
   },
   "id": "Qyp9R_jJgX1G",
   "execution_count": null,
   "outputs": []
  },
  {
   "cell_type": "code",
   "source": [
    "chat = ChatState(gemma, system=car_listings)\n",
    "message = \"What is first car in the listing?\"\n",
    "display_chat(message, chat.send_message(message))"
   ],
   "metadata": {
    "id": "BZK4KgadLnBo",
    "colab": {
     "base_uri": "https://localhost:8080/",
     "height": 176
    },
    "outputId": "26421b78-d80c-4f27-cf4e-28a45dd181c3"
   },
   "id": "BZK4KgadLnBo",
   "execution_count": null,
   "outputs": [
    {
     "output_type": "execute_result",
     "data": {
      "text/plain": [
       "<IPython.core.display.Markdown object>"
      ],
      "text/markdown": "<font size='+1' color='brown'>🙋‍♂️<blockquote>What is first car in the listing?</blockquote></font><font size='+1' color='teal'>🤖\n\n> The first car in the listing is the **Lexus RX, 2022, 13,000 miles, like new, \\$63,000**.\n\n</font>"
     },
     "metadata": {},
     "execution_count": 28
    }
   ]
  },
  {
   "cell_type": "code",
   "source": [
    "message = \"And the second?\"\n",
    "display_chat(message, chat.send_message(message))"
   ],
   "metadata": {
    "id": "a8AO_2CNLs_6",
    "colab": {
     "base_uri": "https://localhost:8080/",
     "height": 176
    },
    "outputId": "7f7d7118-aa45-4b5e-9a07-1d3638e218f6"
   },
   "id": "a8AO_2CNLs_6",
   "execution_count": null,
   "outputs": [
    {
     "output_type": "execute_result",
     "data": {
      "text/plain": [
       "<IPython.core.display.Markdown object>"
      ],
      "text/markdown": "<font size='+1' color='brown'>🙋‍♂️<blockquote>And the second?</blockquote></font><font size='+1' color='teal'>🤖\n\n> The second car in the listing is the **Honda CR-V, 2018, 99,000 miles, leather seats, 4WD, \\$53,000**.\n\n</font>"
     },
     "metadata": {},
     "execution_count": 29
    }
   ]
  },
  {
   "cell_type": "code",
   "source": [
    "message = \"How about the third?\"\n",
    "display_chat(message, chat.send_message(message))"
   ],
   "metadata": {
    "id": "EfjfGqewLz4r",
    "colab": {
     "base_uri": "https://localhost:8080/",
     "height": 176
    },
    "outputId": "7da66903-186d-4455-9275-028bbf760679"
   },
   "id": "EfjfGqewLz4r",
   "execution_count": null,
   "outputs": [
    {
     "output_type": "execute_result",
     "data": {
      "text/plain": [
       "<IPython.core.display.Markdown object>"
      ],
      "text/markdown": "<font size='+1' color='brown'>🙋‍♂️<blockquote>How about the third?</blockquote></font><font size='+1' color='teal'>🤖\n\n> The third car in the listing is the **Honda Civic, 2014, 125,000 miles, top trim, good condition, \\$13,500**.\n\n</font>"
     },
     "metadata": {},
     "execution_count": 30
    }
   ]
  },
  {
   "cell_type": "code",
   "source": [
    "message = \"What is the most affordable car you have on offer today?\"\n",
    "display_chat(message, chat.send_message(message))"
   ],
   "metadata": {
    "id": "-u4bK30mL-Hr",
    "colab": {
     "base_uri": "https://localhost:8080/",
     "height": 176
    },
    "outputId": "887da84d-d6b2-4de1-b427-d258050c82e5"
   },
   "id": "-u4bK30mL-Hr",
   "execution_count": null,
   "outputs": [
    {
     "output_type": "execute_result",
     "data": {
      "text/plain": [
       "<IPython.core.display.Markdown object>"
      ],
      "text/markdown": "<font size='+1' color='brown'>🙋‍♂️<blockquote>What is the most affordable car you have on offer today?</blockquote></font><font size='+1' color='teal'>🤖\n\n> The most affordable car on offer today is the **Honda Civic, 2014, 125,000 miles, top trim, good condition, \\$13,500**.\n\n</font>"
     },
     "metadata": {},
     "execution_count": 31
    }
   ]
  },
  {
   "cell_type": "code",
   "source": [
    "message = \"What is the priciest car you have on offer today?\"\n",
    "display_chat(message, chat.send_message(message))"
   ],
   "metadata": {
    "id": "o1iFlX-5L_da",
    "colab": {
     "base_uri": "https://localhost:8080/",
     "height": 176
    },
    "outputId": "79d7a99f-7e12-4b8d-8a75-16cfd6fea7cc"
   },
   "id": "o1iFlX-5L_da",
   "execution_count": null,
   "outputs": [
    {
     "output_type": "execute_result",
     "data": {
      "text/plain": [
       "<IPython.core.display.Markdown object>"
      ],
      "text/markdown": "<font size='+1' color='brown'>🙋‍♂️<blockquote>What is the priciest car you have on offer today?</blockquote></font><font size='+1' color='teal'>🤖\n\n> The priciest car on offer today is the **Lexus RX, 2022, 13,000 miles, like new, \\$63,000**.\n\n</font>"
     },
     "metadata": {},
     "execution_count": 32
    }
   ]
  },
  {
   "cell_type": "code",
   "source": [
    "message = \"Which one of the three would you recommend for a family of 4 doing lots of school commutes and the occasional trip to the mountains?\"\n",
    "display_chat(message, chat.send_message(message))"
   ],
   "metadata": {
    "id": "ywpmrvar1HhX",
    "colab": {
     "base_uri": "https://localhost:8080/",
     "height": 243
    },
    "outputId": "7dbd7192-3e79-4a1d-8111-14e7c13612fd"
   },
   "id": "ywpmrvar1HhX",
   "execution_count": null,
   "outputs": [
    {
     "output_type": "execute_result",
     "data": {
      "text/plain": [
       "<IPython.core.display.Markdown object>"
      ],
      "text/markdown": "<font size='+1' color='brown'>🙋‍♂️<blockquote>Which one of the three would you recommend for a family of 4 doing lots of school commutes and the occasional trip to the mountains?</blockquote></font><font size='+1' color='teal'>🤖\n\n> The best car for a family is gonna be the one that's reliable, has good safety features, and is affordable.\n> Based on the options in the list, the best choice for a family would be either the **Honda CR-V or the Honda Civic**.\n> They're both good options for school commutes and the occasional trip to the mountains.\n\n</font>"
     },
     "metadata": {},
     "execution_count": 33
    }
   ]
  },
  {
   "cell_type": "code",
   "source": [
    "message = \"Why so? Could you elaborate?\"\n",
    "display_chat(message, chat.send_message(message))"
   ],
   "metadata": {
    "id": "d_4w5doO1ZEa",
    "colab": {
     "base_uri": "https://localhost:8080/",
     "height": 199
    },
    "outputId": "1da3c252-5512-4ac1-f9c4-f7a7d22d1a99"
   },
   "id": "d_4w5doO1ZEa",
   "execution_count": null,
   "outputs": [
    {
     "output_type": "execute_result",
     "data": {
      "text/plain": [
       "<IPython.core.display.Markdown object>"
      ],
      "text/markdown": "<font size='+1' color='brown'>🙋‍♂️<blockquote>Why so? Could you elaborate?</blockquote></font><font size='+1' color='teal'>🤖\n\n> * **Reliability:** The main problem with any car is gonna be how reliable it is.\n> * **Safety features:** You want a car that has good safety features because you don't want to get into\n\n</font>"
     },
     "metadata": {},
     "execution_count": 34
    }
   ]
  },
  {
   "cell_type": "markdown",
   "source": [
    "# Controlled inference: ++ formal"
   ],
   "metadata": {
    "id": "Fch_72eDQdkl"
   },
   "id": "Fch_72eDQdkl"
  },
  {
   "cell_type": "code",
   "source": [
    "FORMAL_VOICE_STRENGTH = 1.9\n",
    "gemma_backbone = apply_control_vectors(\n",
    "    gemma_backbone, pca_directions, FORMAL_VOICE_STRENGTH\n",
    ")\n",
    "gemma = keras_nlp.models.GemmaCausalLM(\n",
    "    backbone=gemma_backbone, preprocessor=gemma_preprocessor\n",
    ")"
   ],
   "metadata": {
    "id": "fHdvjoZmQ89D"
   },
   "id": "fHdvjoZmQ89D",
   "execution_count": null,
   "outputs": []
  },
  {
   "cell_type": "code",
   "source": [
    "car_listings = (\n",
    "    \"You are a helpful assistant for a Baxter's Used Cars, a car dealership. Here are the cars currently on offer:\\n\\n\"\n",
    "    \"#1 Lexus RX, 2022, 13,000 miles, like new, $63,000 \\n\"\n",
    "    \"#2 Honda CR-V, 2018, 99,000 miles, leather seats, 4WD, $53,000 \\n\"\n",
    "    \"#3 Honda Civic, 2014, 125,000 miles, top trim, good condition, $13,500 \\n\"\n",
    ")"
   ],
   "metadata": {
    "id": "YwUXfNy_KbQS"
   },
   "id": "YwUXfNy_KbQS",
   "execution_count": null,
   "outputs": []
  },
  {
   "cell_type": "code",
   "source": [
    "chat = ChatState(gemma, system=car_listings)\n",
    "message = \"What is the first car in the listing?\"\n",
    "display_chat(message, chat.send_message(message))"
   ],
   "metadata": {
    "id": "e9a8I47vQolz",
    "colab": {
     "base_uri": "https://localhost:8080/",
     "height": 176
    },
    "outputId": "fdc1c3c9-6156-4d26-ff2a-ecfde8619106"
   },
   "id": "e9a8I47vQolz",
   "execution_count": null,
   "outputs": [
    {
     "output_type": "execute_result",
     "data": {
      "text/plain": [
       "<IPython.core.display.Markdown object>"
      ],
      "text/markdown": "<font size='+1' color='brown'>🙋‍♂️<blockquote>What is the first car in the listing?</blockquote></font><font size='+1' color='teal'>🤖\n\n> The first car in the listing is the Lexus RX, a 2022 model with a price of \\$63,000.\n\n</font>"
     },
     "metadata": {},
     "execution_count": 37
    }
   ]
  },
  {
   "cell_type": "code",
   "source": [
    "message = \"And the second?\"\n",
    "display_chat(message, chat.send_message(message))"
   ],
   "metadata": {
    "id": "SIoqKt9aQ-_D",
    "colab": {
     "base_uri": "https://localhost:8080/",
     "height": 176
    },
    "outputId": "3b49ed65-a02c-4dc4-8c17-37aa3fd8e518"
   },
   "id": "SIoqKt9aQ-_D",
   "execution_count": null,
   "outputs": [
    {
     "output_type": "execute_result",
     "data": {
      "text/plain": [
       "<IPython.core.display.Markdown object>"
      ],
      "text/markdown": "<font size='+1' color='brown'>🙋‍♂️<blockquote>And the second?</blockquote></font><font size='+1' color='teal'>🤖\n\n> The second car in the listing is the Honda CR-V, a 2018 model with a price of \\$53,000.\n\n</font>"
     },
     "metadata": {},
     "execution_count": 38
    }
   ]
  },
  {
   "cell_type": "code",
   "source": [
    "message = \"How about the third?\"\n",
    "display_chat(message, chat.send_message(message))"
   ],
   "metadata": {
    "id": "rOK3VoP8RBbL",
    "colab": {
     "base_uri": "https://localhost:8080/",
     "height": 176
    },
    "outputId": "1393e1ff-890f-40de-9d4f-b1f1ac0e9555"
   },
   "id": "rOK3VoP8RBbL",
   "execution_count": null,
   "outputs": [
    {
     "output_type": "execute_result",
     "data": {
      "text/plain": [
       "<IPython.core.display.Markdown object>"
      ],
      "text/markdown": "<font size='+1' color='brown'>🙋‍♂️<blockquote>How about the third?</blockquote></font><font size='+1' color='teal'>🤖\n\n> The third car in the listing is the Honda Civic, a 2014 model with a price of \\$13,500.\n\n</font>"
     },
     "metadata": {},
     "execution_count": 39
    }
   ]
  },
  {
   "cell_type": "code",
   "source": [
    "message = \"What is the most affordable car you have on offer today?\"\n",
    "display_chat(message, chat.send_message(message))"
   ],
   "metadata": {
    "id": "P1xea60jRk-P",
    "colab": {
     "base_uri": "https://localhost:8080/",
     "height": 176
    },
    "outputId": "40cccc6a-f55f-430a-b236-6d41d2c4765d"
   },
   "id": "P1xea60jRk-P",
   "execution_count": null,
   "outputs": [
    {
     "output_type": "execute_result",
     "data": {
      "text/plain": [
       "<IPython.core.display.Markdown object>"
      ],
      "text/markdown": "<font size='+1' color='brown'>🙋‍♂️<blockquote>What is the most affordable car you have on offer today?</blockquote></font><font size='+1' color='teal'>🤖\n\n> The Honda Civic, with a price of \\$13,500, is the most affordable car on offer at this time.\n\n</font>"
     },
     "metadata": {},
     "execution_count": 40
    }
   ]
  },
  {
   "cell_type": "code",
   "source": [
    "message = \"What is the priciest car you have on offer today?\"\n",
    "display_chat(message, chat.send_message(message))"
   ],
   "metadata": {
    "id": "7pWLb9jkRlxr",
    "colab": {
     "base_uri": "https://localhost:8080/",
     "height": 176
    },
    "outputId": "7d5d7e16-0f3f-4adb-f639-9a73393773b7"
   },
   "id": "7pWLb9jkRlxr",
   "execution_count": null,
   "outputs": [
    {
     "output_type": "execute_result",
     "data": {
      "text/plain": [
       "<IPython.core.display.Markdown object>"
      ],
      "text/markdown": "<font size='+1' color='brown'>🙋‍♂️<blockquote>What is the priciest car you have on offer today?</blockquote></font><font size='+1' color='teal'>🤖\n\n> The Lexus RX, with a price of \\$63,000, is the most expensive car on offer.\n\n</font>"
     },
     "metadata": {},
     "execution_count": 41
    }
   ]
  },
  {
   "cell_type": "code",
   "source": [
    "message = \"Which one of the three would you recommend for a family of 4 doing lots of school commutes and the occasional trip to the mountains?\"\n",
    "display_chat(message, chat.send_message(message))"
   ],
   "metadata": {
    "id": "4acURe0dRDyS",
    "colab": {
     "base_uri": "https://localhost:8080/",
     "height": 221
    },
    "outputId": "354734ee-00df-4f8d-a2d0-c21b01e5adac"
   },
   "id": "4acURe0dRDyS",
   "execution_count": null,
   "outputs": [
    {
     "output_type": "execute_result",
     "data": {
      "text/plain": [
       "<IPython.core.display.Markdown object>"
      ],
      "text/markdown": "<font size='+1' color='brown'>🙋‍♂️<blockquote>Which one of the three would you recommend for a family of 4 doing lots of school commutes and the occasional trip to the mountains?</blockquote></font><font size='+1' color='teal'>🤖\n\n> The Honda CR-V appears to be the most suitable option, offering a balance of features and price that meets your requirements.\n\n</font>"
     },
     "metadata": {},
     "execution_count": 42
    }
   ]
  },
  {
   "cell_type": "code",
   "source": [
    "message = \"Why so? Could you elaborate?\"\n",
    "display_chat(message, chat.send_message(message))"
   ],
   "metadata": {
    "id": "ugm3MTLARFsB",
    "colab": {
     "base_uri": "https://localhost:8080/",
     "height": 271
    },
    "outputId": "48a0e080-1a35-4e57-b918-7623fe8ab71d"
   },
   "id": "ugm3MTLARFsB",
   "execution_count": null,
   "outputs": [
    {
     "output_type": "execute_result",
     "data": {
      "text/plain": [
       "<IPython.core.display.Markdown object>"
      ],
      "text/markdown": "<font size='+1' color='brown'>🙋‍♂️<blockquote>Why so? Could you elaborate?</blockquote></font><font size='+1' color='teal'>🤖\n\n> The Honda CR-V strikes a harmonious balance between practicality and luxury, offering a compelling combination of features that cater to the needs of a family undertaking both urban and occasional excursions.\n> \n> The Lexus RX possesses a more affluent appearance and technological advancements, while the Honda CR-V presents a sophisticated and well-appointed yet accessible option. The Civic, while offering a compelling value, may lack the level of refinement and prestige of the other two options.\n\n</font>"
     },
     "metadata": {},
     "execution_count": 43
    }
   ]
  },
  {
   "cell_type": "code",
   "source": [],
   "metadata": {
    "id": "t_nzAbVtRHfZ"
   },
   "id": "t_nzAbVtRHfZ",
   "execution_count": null,
   "outputs": []
  }
 ],
 "metadata": {
  "kernelspec": {
   "display_name": "Python 3",
   "name": "python3"
  },
  "language_info": {
   "codemirror_mode": {
    "name": "ipython",
    "version": 3
   },
   "file_extension": ".py",
   "mimetype": "text/x-python",
   "name": "python",
   "nbconvert_exporter": "python",
   "pygments_lexer": "ipython3",
   "version": "3.10.12"
  },
  "colab": {
   "provenance": [],
   "gpuType": "T4"
  },
  "accelerator": "GPU"
 },
 "nbformat": 4,
 "nbformat_minor": 5
}